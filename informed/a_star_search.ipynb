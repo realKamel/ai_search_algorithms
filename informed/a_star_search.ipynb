{
 "cells": [
  {
   "cell_type": "code",
   "execution_count": 15,
   "metadata": {},
   "outputs": [],
   "source": [
    "Graph = {\n",
    "    'S': [('A', 1), ('B', 4)],\n",
    "    'A': [('B', 2), ('C', 5), ('G', 12)],\n",
    "    'B': [('C', 2)],\n",
    "    'C': [('G', 3)]\n",
    "}\n",
    "H_table = {\n",
    "    'S': 7,\n",
    "    'A': 6,\n",
    "    'B': 4,\n",
    "    'C': 2,\n",
    "    'G': 0\n",
    "}"
   ]
  },
  {
   "cell_type": "code",
   "execution_count": 16,
   "metadata": {},
   "outputs": [],
   "source": [
    "def calc_f_cost(path):\n",
    "    g_cost = 0\n",
    "    for (node, cost) in path:\n",
    "        g_cost += cost\n",
    "\n",
    "    # itrate over every pair and calculate only the cost\n",
    "    # g_cost is the total path cost\n",
    "    \n",
    "    last_node_key = path[-1][0] # to get the rightmost node of path to get its heuristic value\n",
    "    h_cost = H_table[last_node_key]\n",
    "    f_cost = g_cost + h_cost\n",
    "    return f_cost, last_node_key"
   ]
  },
  {
   "cell_type": "code",
   "execution_count": 17,
   "metadata": {},
   "outputs": [],
   "source": [
    "def a_star(graph, start, goal):\n",
    "    is_visited = []\n",
    "    queue = [[(start, 0)]]\n",
    "    while queue:\n",
    "        queue.sort(key=calc_f_cost)\n",
    "\n",
    "        # Sorting the queue using f_cost\n",
    "        # If two nodes have the same f_cost sorting will be alphabetically\n",
    "\n",
    "        path = queue.pop(0)\n",
    "        # pop the minimum f_cost node\n",
    "        node = path[-1][0]\n",
    "        # last_node key\n",
    "        if node in is_visited:\n",
    "            continue\n",
    "        is_visited.append(node)\n",
    "\n",
    "        if node == goal:\n",
    "            return path\n",
    "        else:\n",
    "            adjacent_nodes = graph.get(node, [])\n",
    "            for (adj_node, cost) in adjacent_nodes:\n",
    "                new_path = path.copy()\n",
    "                new_path.append((adj_node, cost))  # Append the cost along with the node\n",
    "                queue.append(new_path)"
   ]
  },
  {
   "cell_type": "code",
   "execution_count": 18,
   "metadata": {},
   "outputs": [
    {
     "name": "stdout",
     "output_type": "stream",
     "text": [
      "The solution is  [('S', 0), ('A', 1), ('B', 2), ('C', 2), ('G', 3)]\n"
     ]
    }
   ],
   "source": [
    "solve_me = a_star(Graph, 'S', 'G')\n",
    "print(\"The solution is \", solve_me)"
   ]
  }
 ],
 "metadata": {
  "kernelspec": {
   "display_name": "Python 3 (ipykernel)",
   "language": "python",
   "name": "python3"
  },
  "language_info": {
   "codemirror_mode": {
    "name": "ipython",
    "version": 3
   },
   "file_extension": ".py",
   "mimetype": "text/x-python",
   "name": "python",
   "nbconvert_exporter": "python",
   "pygments_lexer": "ipython3",
   "version": "3.11.5"
  }
 },
 "nbformat": 4,
 "nbformat_minor": 4
}
