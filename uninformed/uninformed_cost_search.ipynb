{
 "cells": [
  {
   "cell_type": "code",
   "execution_count": 29,
   "metadata": {},
   "outputs": [],
   "source": [
    "graph = {\n",
    "    'S':[('A',2),('B',3),('D',5)],\n",
    "    'A':[('C',4)],\n",
    "    'B':[('D',4)],\n",
    "    'C':[('D',1),('G',2)],\n",
    "    'D':[('G',5)]\n",
    "}"
   ]
  },
  {
   "cell_type": "code",
   "execution_count": 30,
   "metadata": {},
   "outputs": [],
   "source": [
    "def path_cost(path):\n",
    "    total_cost = 0\n",
    "    for (node, cost) in path:\n",
    "        total_cost+=cost\n",
    "    return total_cost"
   ]
  },
  {
   "cell_type": "code",
   "execution_count": 31,
   "metadata": {},
   "outputs": [],
   "source": [
    "def ucs(graph, start, goal):\n",
    "        visited = []\n",
    "        queue=[[(start,0)]]\n",
    "        while queue:\n",
    "            queue.sort(key=path_cost) # sort using path_cost\n",
    "            path=queue.pop(0)\n",
    "            node=path[-1][0]\n",
    "\n",
    "            if node not in visited:\n",
    "                visited.append(node)\n",
    "\n",
    "            if node == goal:\n",
    "                return path\n",
    "            else:\n",
    "                adjacent_nodes=graph.get(node, [])\n",
    "                for(adj_node, cost) in adjacent_nodes:\n",
    "                        new_path = path.copy()\n",
    "                        new_path.append((adj_node, cost))\n",
    "                        queue.append(new_path)"
   ]
  },
  {
   "cell_type": "code",
   "execution_count": 32,
   "metadata": {},
   "outputs": [
    {
     "name": "stdout",
     "output_type": "stream",
     "text": [
      "[('S', 0), ('A', 2), ('C', 4), ('G', 2)]\n",
      "Cost :  8\n"
     ]
    }
   ],
   "source": [
    "solution=ucs(graph,'S','G')\n",
    "print(solution)\n",
    "print(\"Cost : \",path_cost(solution))"
   ]
  }
 ],
 "metadata": {
  "kernelspec": {
   "display_name": "Python 3",
   "language": "python",
   "name": "python3"
  },
  "language_info": {
   "codemirror_mode": {
    "name": "ipython",
    "version": 3
   },
   "file_extension": ".py",
   "mimetype": "text/x-python",
   "name": "python",
   "nbconvert_exporter": "python",
   "pygments_lexer": "ipython3",
   "version": "3.11.5"
  }
 },
 "nbformat": 4,
 "nbformat_minor": 2
}
